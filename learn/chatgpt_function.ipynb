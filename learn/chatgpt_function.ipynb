{
 "cells": [
  {
   "cell_type": "code",
   "execution_count": 1,
   "metadata": {
    "collapsed": true,
    "ExecuteTime": {
     "end_time": "2023-07-07T14:20:52.044028600Z",
     "start_time": "2023-07-07T14:20:51.877458800Z"
    }
   },
   "outputs": [],
   "source": [
    "import requests\n",
    "from bs4 import BeautifulSoup\n",
    "\n",
    "def is_target_tag(tag):\n",
    "    target_tags = ['p', 'code', 'h1', 'h2', 'h2', 'h3', 'h4', 'h5']\n",
    "    return tag.name in target_tags\n",
    "\n",
    "def get_text_from_url(url):\n",
    "    response = requests.get(url)\n",
    "    html = response.text\n",
    "    soup = BeautifulSoup(html, 'html.parser')\n",
    "    extracted_tags = soup.find_all(is_target_tag)\n",
    "    res_text = ''\n",
    "    for tag in extracted_tags:\n",
    "        res_text = res_text + tag.get_text(strip=True) + '\\n'\n",
    "    return res_text"
   ]
  },
  {
   "cell_type": "code",
   "execution_count": 13,
   "outputs": [],
   "source": [
    "functions = [\n",
    "    {\n",
    "        \"name\": \"get_text_from_url\",\n",
    "        \"description\": \"抓取url对应的网页里的文本内容\",\n",
    "        \"parameters\": {\n",
    "            \"type\": \"object\",\n",
    "            \"properties\": {\n",
    "                \"url\": {\n",
    "                    \"type\": \"string\",\n",
    "                    \"description\": \"网址url\",\n",
    "                }\n",
    "            },\n",
    "            \"required\": [\"url\"],\n",
    "        },\n",
    "    }\n",
    "]"
   ],
   "metadata": {
    "collapsed": false,
    "ExecuteTime": {
     "end_time": "2023-07-07T14:41:55.959371400Z",
     "start_time": "2023-07-07T14:41:55.953368200Z"
    }
   }
  },
  {
   "cell_type": "code",
   "execution_count": 4,
   "outputs": [],
   "source": [
    "available_functions = {\n",
    "    \"get_text_from_url\": get_text_from_url,\n",
    "}"
   ],
   "metadata": {
    "collapsed": false,
    "ExecuteTime": {
     "end_time": "2023-07-07T14:21:09.363650900Z",
     "start_time": "2023-07-07T14:21:09.344488200Z"
    }
   }
  },
  {
   "cell_type": "code",
   "execution_count": 15,
   "outputs": [],
   "source": [
    "import os\n",
    "import openai\n",
    "import json\n",
    "openai.api_key = os.getenv(\"OPENAI_API_KEY\")\n",
    "openai.proxy = \"http://127.0.0.1:7890\"\n",
    "\n",
    "def chat(content):\n",
    "    messages = [\n",
    "        {\"role\": \"user\", \"content\": content}\n",
    "    ]\n",
    "    response1 = openai.ChatCompletion.create(\n",
    "        model=\"gpt-3.5-turbo-0613\",\n",
    "        messages=messages,\n",
    "        functions=functions,\n",
    "        function_call=\"auto\"\n",
    "    )\n",
    "    response_message = response1[\"choices\"][0][\"message\"]\n",
    "    rtn_message = response1[\"choices\"][0][\"message\"]\n",
    "    # 如果ChatGPT返回结果会告诉你，是否需要调用函数，我们只需要根据它返回的函数名、参数调起对应的函数\n",
    "    # 然后将函数的返回结果再给到ChatGPT，让他进行下一步的操作\n",
    "    if response_message.get(\"function_call\"):\n",
    "        # 找到需要调用的函数，并将ChatGPT给的参数传进去\n",
    "        function_name = response_message[\"function_call\"][\"name\"]\n",
    "        fuction_to_call = available_functions[function_name]\n",
    "        function_args = json.loads(response_message[\"function_call\"][\"arguments\"])\n",
    "        # 用这种方式可以调起任意python函数，不用像官网那样还要指定参数名\n",
    "        function_response = fuction_to_call(**function_args)\n",
    "        # 获取到函数调用结果后，需要将结果拼接到对话记录里，并再次调用ChatGPT\n",
    "        messages.append(response_message)\n",
    "        messages.append(\n",
    "            {\n",
    "                \"role\": \"function\",\n",
    "                \"name\": function_name,\n",
    "                \"content\": function_response,\n",
    "            }\n",
    "        )\n",
    "        # 二次调用的返回结果里就是我们预期的结果了\n",
    "        response2 = openai.ChatCompletion.create(\n",
    "            model=\"gpt-3.5-turbo-0613\",\n",
    "            messages=messages,\n",
    "        )\n",
    "        rtn_message = response2[\"choices\"][0][\"message\"]\n",
    "    return rtn_message['content']"
   ],
   "metadata": {
    "collapsed": false,
    "ExecuteTime": {
     "end_time": "2023-07-07T14:44:37.570451700Z",
     "start_time": "2023-07-07T14:44:37.559937600Z"
    }
   }
  },
  {
   "cell_type": "code",
   "execution_count": 16,
   "outputs": [
    {
     "data": {
      "text/plain": "'该文章讨论了如何使用ChatGPT来提升编程能力。作者总结了可以利用ChatGPT的一些场景，包括代码评审、代码优化、代码释义、提供解决方案、代码生成、设计模式和架构建议以及学习新知识。作者强调了在使用ChatGPT时应注意其表现水平可能不如专业工程师，并建议将其作为辅助工具结合其他代码审查工具和人工审查使用。最后，作者提到尽管ChatGPT可能不会完全取代程序员，但肯定会替代部分技术水平较低的工作。'"
     },
     "execution_count": 16,
     "metadata": {},
     "output_type": "execute_result"
    }
   ],
   "source": [
    "chat('总结下这篇文章，将其中的要点提炼出来 https://zxs.io/article/1924')"
   ],
   "metadata": {
    "collapsed": false,
    "ExecuteTime": {
     "end_time": "2023-07-07T14:44:46.620755700Z",
     "start_time": "2023-07-07T14:44:38.184023500Z"
    }
   }
  },
  {
   "cell_type": "code",
   "execution_count": null,
   "outputs": [],
   "source": [],
   "metadata": {
    "collapsed": false
   }
  }
 ],
 "metadata": {
  "kernelspec": {
   "display_name": "Python 3",
   "language": "python",
   "name": "python3"
  },
  "language_info": {
   "codemirror_mode": {
    "name": "ipython",
    "version": 2
   },
   "file_extension": ".py",
   "mimetype": "text/x-python",
   "name": "python",
   "nbconvert_exporter": "python",
   "pygments_lexer": "ipython2",
   "version": "2.7.6"
  }
 },
 "nbformat": 4,
 "nbformat_minor": 0
}
